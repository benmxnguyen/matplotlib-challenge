{
 "cells": [
  {
   "cell_type": "markdown",
   "id": "6ca5f51f",
   "metadata": {},
   "source": [
    "#### Three Observable Trends\n",
    "- Looking at the summary statistics table, Pymaceuticals' drug of interest, Capomulin, seemed to have yielded the second best results in terms of average tumor volume size (40.68) and standard deviation of 4.99. The seemingly best drug regimen is Ramicane, with the smallest average tumor volume size (40.22) and standard deviation of 4.85. Both of these drug regimens have the least variability, theoretically making them the best candidates to treat SCC.\n",
    "- With the top 4 best performing drug regimens (Ramicane, Capomulin, Infubinol, and Ceftamin), only one of the regimens (Infubinol) had a single outlier. This is perhaps indicative that these drug regimens are consistent and reliable.\n",
    "- It appears that there is a positive correlation between the average size of the tumor and the weight of the mouse.\n"
   ]
  },
  {
   "cell_type": "code",
   "execution_count": 1,
   "id": "37501fa0",
   "metadata": {},
   "outputs": [],
   "source": [
    "#import dependencies\n",
    "\n",
    "import pandas as pd\n",
    "import scipy.stats as st\n",
    "import matplotlib.pyplot as plt\n",
    "import numpy as np"
   ]
  },
  {
   "cell_type": "code",
   "execution_count": 2,
   "id": "2b86087b",
   "metadata": {},
   "outputs": [],
   "source": [
    "#read data\n",
    "mouse_file = \"Pymaceuticals/data/Mouse_metadata.csv\"\n",
    "results_file = \"Pymaceuticals/data/Study_results.csv\"\n",
    "\n",
    "#store data into a DataFrame\n",
    "mouse_meta_df = pd.read_csv(mouse_file)\n",
    "results_df = pd.read_csv(results_file)"
   ]
  },
  {
   "cell_type": "code",
   "execution_count": 3,
   "id": "66945f40",
   "metadata": {},
   "outputs": [],
   "source": [
    "#Merge DataFrames\n",
    "\n",
    "merged_df = mouse_meta_df.merge(results_df, on = \"Mouse ID\", how = \"outer\")\n",
    "\n",
    "#Determining the mouse id with duplicate timepoints\n",
    "duplicate_mouse = merged_df[merged_df.duplicated(subset=[\"Mouse ID\", \"Timepoint\"], keep = False)]"
   ]
  },
  {
   "cell_type": "code",
   "execution_count": 4,
   "id": "76f66f83",
   "metadata": {
    "scrolled": true
   },
   "outputs": [
    {
     "data": {
      "text/plain": [
       "248"
      ]
     },
     "execution_count": 4,
     "metadata": {},
     "output_type": "execute_result"
    }
   ],
   "source": [
    "#cleaning the data\n",
    "cleaned_merged_df = merged_df.loc[merged_df[\"Mouse ID\"] != 'g989']\n",
    "\n",
    "#check that data has been stripped of compromising data\n",
    "len(cleaned_merged_df['Mouse ID'].unique())"
   ]
  },
  {
   "cell_type": "code",
   "execution_count": 5,
   "id": "567060a0",
   "metadata": {},
   "outputs": [
    {
     "data": {
      "text/html": [
       "<div>\n",
       "<style scoped>\n",
       "    .dataframe tbody tr th:only-of-type {\n",
       "        vertical-align: middle;\n",
       "    }\n",
       "\n",
       "    .dataframe tbody tr th {\n",
       "        vertical-align: top;\n",
       "    }\n",
       "\n",
       "    .dataframe thead th {\n",
       "        text-align: right;\n",
       "    }\n",
       "</style>\n",
       "<table border=\"1\" class=\"dataframe\">\n",
       "  <thead>\n",
       "    <tr style=\"text-align: right;\">\n",
       "      <th></th>\n",
       "      <th>Tumor Volume Mean (mm3)</th>\n",
       "      <th>Tumor Volume Median (mm3)</th>\n",
       "      <th>Tumor Volume Standard Deviation (mm3)</th>\n",
       "      <th>Tumor Volume Variance (mm3)</th>\n",
       "      <th>Tumor Volume SEM (mm3)</th>\n",
       "    </tr>\n",
       "    <tr>\n",
       "      <th>Drug Regimen</th>\n",
       "      <th></th>\n",
       "      <th></th>\n",
       "      <th></th>\n",
       "      <th></th>\n",
       "      <th></th>\n",
       "    </tr>\n",
       "  </thead>\n",
       "  <tbody>\n",
       "    <tr>\n",
       "      <th>Capomulin</th>\n",
       "      <td>40.675741</td>\n",
       "      <td>41.557809</td>\n",
       "      <td>4.994774</td>\n",
       "      <td>24.947764</td>\n",
       "      <td>0.329346</td>\n",
       "    </tr>\n",
       "    <tr>\n",
       "      <th>Ceftamin</th>\n",
       "      <td>52.591172</td>\n",
       "      <td>51.776157</td>\n",
       "      <td>6.268188</td>\n",
       "      <td>39.290177</td>\n",
       "      <td>0.469821</td>\n",
       "    </tr>\n",
       "    <tr>\n",
       "      <th>Infubinol</th>\n",
       "      <td>52.884795</td>\n",
       "      <td>51.820584</td>\n",
       "      <td>6.567243</td>\n",
       "      <td>43.128684</td>\n",
       "      <td>0.492236</td>\n",
       "    </tr>\n",
       "    <tr>\n",
       "      <th>Ketapril</th>\n",
       "      <td>55.235638</td>\n",
       "      <td>53.698743</td>\n",
       "      <td>8.279709</td>\n",
       "      <td>68.553577</td>\n",
       "      <td>0.603860</td>\n",
       "    </tr>\n",
       "    <tr>\n",
       "      <th>Naftisol</th>\n",
       "      <td>54.331565</td>\n",
       "      <td>52.509285</td>\n",
       "      <td>8.134708</td>\n",
       "      <td>66.173479</td>\n",
       "      <td>0.596466</td>\n",
       "    </tr>\n",
       "    <tr>\n",
       "      <th>Placebo</th>\n",
       "      <td>54.033581</td>\n",
       "      <td>52.288934</td>\n",
       "      <td>7.821003</td>\n",
       "      <td>61.168083</td>\n",
       "      <td>0.581331</td>\n",
       "    </tr>\n",
       "    <tr>\n",
       "      <th>Propriva</th>\n",
       "      <td>52.320930</td>\n",
       "      <td>50.446266</td>\n",
       "      <td>6.622085</td>\n",
       "      <td>43.852013</td>\n",
       "      <td>0.544332</td>\n",
       "    </tr>\n",
       "    <tr>\n",
       "      <th>Ramicane</th>\n",
       "      <td>40.216745</td>\n",
       "      <td>40.673236</td>\n",
       "      <td>4.846308</td>\n",
       "      <td>23.486704</td>\n",
       "      <td>0.320955</td>\n",
       "    </tr>\n",
       "    <tr>\n",
       "      <th>Stelasyn</th>\n",
       "      <td>54.233149</td>\n",
       "      <td>52.431737</td>\n",
       "      <td>7.710419</td>\n",
       "      <td>59.450562</td>\n",
       "      <td>0.573111</td>\n",
       "    </tr>\n",
       "    <tr>\n",
       "      <th>Zoniferol</th>\n",
       "      <td>53.236507</td>\n",
       "      <td>51.818479</td>\n",
       "      <td>6.966589</td>\n",
       "      <td>48.533355</td>\n",
       "      <td>0.516398</td>\n",
       "    </tr>\n",
       "  </tbody>\n",
       "</table>\n",
       "</div>"
      ],
      "text/plain": [
       "              Tumor Volume Mean (mm3)  Tumor Volume Median (mm3)  \\\n",
       "Drug Regimen                                                       \n",
       "Capomulin                   40.675741                  41.557809   \n",
       "Ceftamin                    52.591172                  51.776157   \n",
       "Infubinol                   52.884795                  51.820584   \n",
       "Ketapril                    55.235638                  53.698743   \n",
       "Naftisol                    54.331565                  52.509285   \n",
       "Placebo                     54.033581                  52.288934   \n",
       "Propriva                    52.320930                  50.446266   \n",
       "Ramicane                    40.216745                  40.673236   \n",
       "Stelasyn                    54.233149                  52.431737   \n",
       "Zoniferol                   53.236507                  51.818479   \n",
       "\n",
       "              Tumor Volume Standard Deviation (mm3)  \\\n",
       "Drug Regimen                                          \n",
       "Capomulin                                  4.994774   \n",
       "Ceftamin                                   6.268188   \n",
       "Infubinol                                  6.567243   \n",
       "Ketapril                                   8.279709   \n",
       "Naftisol                                   8.134708   \n",
       "Placebo                                    7.821003   \n",
       "Propriva                                   6.622085   \n",
       "Ramicane                                   4.846308   \n",
       "Stelasyn                                   7.710419   \n",
       "Zoniferol                                  6.966589   \n",
       "\n",
       "              Tumor Volume Variance (mm3)  Tumor Volume SEM (mm3)  \n",
       "Drug Regimen                                                       \n",
       "Capomulin                       24.947764                0.329346  \n",
       "Ceftamin                        39.290177                0.469821  \n",
       "Infubinol                       43.128684                0.492236  \n",
       "Ketapril                        68.553577                0.603860  \n",
       "Naftisol                        66.173479                0.596466  \n",
       "Placebo                         61.168083                0.581331  \n",
       "Propriva                        43.852013                0.544332  \n",
       "Ramicane                        23.486704                0.320955  \n",
       "Stelasyn                        59.450562                0.573111  \n",
       "Zoniferol                       48.533355                0.516398  "
      ]
     },
     "execution_count": 5,
     "metadata": {},
     "output_type": "execute_result"
    }
   ],
   "source": [
    "#Statistics\n",
    "\n",
    "tumor_summary_df = pd.DataFrame()\n",
    "\n",
    "#grouping the data by the drug regimen\n",
    "regimen_groupby_df = cleaned_merged_df.groupby(\"Drug Regimen\")\n",
    "\n",
    "#store summary statistics in variable and add key, values to DataFrame\n",
    "tumor_vol_mean = regimen_groupby_df[\"Tumor Volume (mm3)\"].mean()\n",
    "tumor_vol_median = regimen_groupby_df[\"Tumor Volume (mm3)\"].median()\n",
    "tumor_vol_std = regimen_groupby_df[\"Tumor Volume (mm3)\"].std()\n",
    "tumor_vol_var = regimen_groupby_df[\"Tumor Volume (mm3)\"].var()\n",
    "tumor_vol_sem = regimen_groupby_df[\"Tumor Volume (mm3)\"].sem()\n",
    "\n",
    "tumor_summary_df[\"Tumor Volume Mean (mm3)\"] = tumor_vol_mean\n",
    "tumor_summary_df[\"Tumor Volume Median (mm3)\"] = tumor_vol_median\n",
    "tumor_summary_df[\"Tumor Volume Standard Deviation (mm3)\"] = tumor_vol_std\n",
    "tumor_summary_df[\"Tumor Volume Variance (mm3)\"] = tumor_vol_var\n",
    "tumor_summary_df[\"Tumor Volume SEM (mm3)\"] = tumor_vol_sem\n",
    "\n",
    "tumor_summary_df"
   ]
  },
  {
   "cell_type": "code",
   "execution_count": 6,
   "id": "ab70b590",
   "metadata": {},
   "outputs": [
    {
     "data": {
      "text/html": [
       "<div>\n",
       "<style scoped>\n",
       "    .dataframe tbody tr th:only-of-type {\n",
       "        vertical-align: middle;\n",
       "    }\n",
       "\n",
       "    .dataframe tbody tr th {\n",
       "        vertical-align: top;\n",
       "    }\n",
       "\n",
       "    .dataframe thead th {\n",
       "        text-align: right;\n",
       "    }\n",
       "</style>\n",
       "<table border=\"1\" class=\"dataframe\">\n",
       "  <thead>\n",
       "    <tr style=\"text-align: right;\">\n",
       "      <th></th>\n",
       "      <th>mean</th>\n",
       "      <th>median</th>\n",
       "      <th>std</th>\n",
       "      <th>var</th>\n",
       "      <th>sem</th>\n",
       "    </tr>\n",
       "    <tr>\n",
       "      <th>Drug Regimen</th>\n",
       "      <th></th>\n",
       "      <th></th>\n",
       "      <th></th>\n",
       "      <th></th>\n",
       "      <th></th>\n",
       "    </tr>\n",
       "  </thead>\n",
       "  <tbody>\n",
       "    <tr>\n",
       "      <th>Capomulin</th>\n",
       "      <td>40.675741</td>\n",
       "      <td>41.557809</td>\n",
       "      <td>4.994774</td>\n",
       "      <td>24.947764</td>\n",
       "      <td>0.329346</td>\n",
       "    </tr>\n",
       "    <tr>\n",
       "      <th>Ceftamin</th>\n",
       "      <td>52.591172</td>\n",
       "      <td>51.776157</td>\n",
       "      <td>6.268188</td>\n",
       "      <td>39.290177</td>\n",
       "      <td>0.469821</td>\n",
       "    </tr>\n",
       "    <tr>\n",
       "      <th>Infubinol</th>\n",
       "      <td>52.884795</td>\n",
       "      <td>51.820584</td>\n",
       "      <td>6.567243</td>\n",
       "      <td>43.128684</td>\n",
       "      <td>0.492236</td>\n",
       "    </tr>\n",
       "    <tr>\n",
       "      <th>Ketapril</th>\n",
       "      <td>55.235638</td>\n",
       "      <td>53.698743</td>\n",
       "      <td>8.279709</td>\n",
       "      <td>68.553577</td>\n",
       "      <td>0.603860</td>\n",
       "    </tr>\n",
       "    <tr>\n",
       "      <th>Naftisol</th>\n",
       "      <td>54.331565</td>\n",
       "      <td>52.509285</td>\n",
       "      <td>8.134708</td>\n",
       "      <td>66.173479</td>\n",
       "      <td>0.596466</td>\n",
       "    </tr>\n",
       "    <tr>\n",
       "      <th>Placebo</th>\n",
       "      <td>54.033581</td>\n",
       "      <td>52.288934</td>\n",
       "      <td>7.821003</td>\n",
       "      <td>61.168083</td>\n",
       "      <td>0.581331</td>\n",
       "    </tr>\n",
       "    <tr>\n",
       "      <th>Propriva</th>\n",
       "      <td>52.320930</td>\n",
       "      <td>50.446266</td>\n",
       "      <td>6.622085</td>\n",
       "      <td>43.852013</td>\n",
       "      <td>0.544332</td>\n",
       "    </tr>\n",
       "    <tr>\n",
       "      <th>Ramicane</th>\n",
       "      <td>40.216745</td>\n",
       "      <td>40.673236</td>\n",
       "      <td>4.846308</td>\n",
       "      <td>23.486704</td>\n",
       "      <td>0.320955</td>\n",
       "    </tr>\n",
       "    <tr>\n",
       "      <th>Stelasyn</th>\n",
       "      <td>54.233149</td>\n",
       "      <td>52.431737</td>\n",
       "      <td>7.710419</td>\n",
       "      <td>59.450562</td>\n",
       "      <td>0.573111</td>\n",
       "    </tr>\n",
       "    <tr>\n",
       "      <th>Zoniferol</th>\n",
       "      <td>53.236507</td>\n",
       "      <td>51.818479</td>\n",
       "      <td>6.966589</td>\n",
       "      <td>48.533355</td>\n",
       "      <td>0.516398</td>\n",
       "    </tr>\n",
       "  </tbody>\n",
       "</table>\n",
       "</div>"
      ],
      "text/plain": [
       "                   mean     median       std        var       sem\n",
       "Drug Regimen                                                     \n",
       "Capomulin     40.675741  41.557809  4.994774  24.947764  0.329346\n",
       "Ceftamin      52.591172  51.776157  6.268188  39.290177  0.469821\n",
       "Infubinol     52.884795  51.820584  6.567243  43.128684  0.492236\n",
       "Ketapril      55.235638  53.698743  8.279709  68.553577  0.603860\n",
       "Naftisol      54.331565  52.509285  8.134708  66.173479  0.596466\n",
       "Placebo       54.033581  52.288934  7.821003  61.168083  0.581331\n",
       "Propriva      52.320930  50.446266  6.622085  43.852013  0.544332\n",
       "Ramicane      40.216745  40.673236  4.846308  23.486704  0.320955\n",
       "Stelasyn      54.233149  52.431737  7.710419  59.450562  0.573111\n",
       "Zoniferol     53.236507  51.818479  6.966589  48.533355  0.516398"
      ]
     },
     "execution_count": 6,
     "metadata": {},
     "output_type": "execute_result"
    }
   ],
   "source": [
    "#Create Summary Statistic Table using the aggregate method\n",
    "\n",
    "agg_summary_df = regimen_groupby_df[\"Tumor Volume (mm3)\"].agg(['mean', 'median', 'std', 'var', 'sem'])\n",
    "\n",
    "agg_summary_df"
   ]
  },
  {
   "cell_type": "code",
   "execution_count": 7,
   "id": "0adc0551",
   "metadata": {},
   "outputs": [],
   "source": [
    "#Create a dataframe for total number of timepoints for all mice tested for each drug regimen\n",
    "regimen_timepoint_df = cleaned_merged_df.filter(['Drug Regimen', 'Timepoint'])\n",
    "regimen_groupby_df = regimen_timepoint_df.groupby('Drug Regimen')"
   ]
  },
  {
   "cell_type": "code",
   "execution_count": 8,
   "id": "07bd9585",
   "metadata": {
    "scrolled": true
   },
   "outputs": [
    {
     "data": {
      "text/plain": [
       "Text(0, 0.5, 'Number of Timepoints')"
      ]
     },
     "execution_count": 8,
     "metadata": {},
     "output_type": "execute_result"
    },
    {
     "data": {
      "image/png": "[encoded data removed]",
      "text/plain": [
       "<Figure size 432x288 with 1 Axes>"
      ]
     },
     "metadata": {
      "needs_background": "light"
     },
     "output_type": "display_data"
    }
   ],
   "source": [
    "#generate bar plot for total number of timepoints for all mice tested for each drug regimen using pandas\n",
    "#total number of the timepoint values per regimen\n",
    "regimen_groupby_df[\"Timepoint\"].count().plot(kind = 'bar')\n",
    "plt.title('Total Number of Timepoints per drug regimen')\n",
    "plt.xlabel('Drug Regimen')\n",
    "plt.ylabel('Number of Timepoints')"
   ]
  },
  {
   "cell_type": "code",
   "execution_count": 9,
   "id": "d12699b0",
   "metadata": {},
   "outputs": [
    {
     "data": {
      "text/plain": [
       "Text(0, 0.5, 'Number of Timepoints')"
      ]
     },
     "execution_count": 9,
     "metadata": {},
     "output_type": "execute_result"
    },
    {
     "data": {
      "image/png": "[encoded data removed]",
      "text/plain": [
       "<Figure size 432x288 with 1 Axes>"
      ]
     },
     "metadata": {
      "needs_background": "light"
     },
     "output_type": "display_data"
    }
   ],
   "source": [
    "#generate bar plot for total number of timepoints for all mice tested for each drug regimen using matplotlib\n",
    "drug_regimens = [value for value in list(regimen_groupby_df[\"Timepoint\"].count().axes[0])]\n",
    "x_axis = [x for x in range(len(drug_regimens))]\n",
    "tick_locations = [value for value in x_axis]\n",
    "total_timepoints = list(regimen_groupby_df[\"Timepoint\"].count())\n",
    "\n",
    "plt.bar(x_axis, total_timepoints, align = 'center', width = .5)\n",
    "plt.xticks(tick_locations, drug_regimens, rotation=\"vertical\")\n",
    "plt.title('Total Number of Timepoints per drug regimen')\n",
    "plt.xlabel('Drug Regimen')\n",
    "plt.ylabel('Number of Timepoints')"
   ]
  },
  {
   "cell_type": "code",
   "execution_count": 10,
   "id": "782c03b6",
   "metadata": {},
   "outputs": [
    {
     "data": {
      "text/plain": [
       "<matplotlib.legend.Legend at 0x2a8ad678700>"
      ]
     },
     "execution_count": 10,
     "metadata": {},
     "output_type": "execute_result"
    },
    {
     "data": {
      "image/png": "[encoded data removed]",
      "text/plain": [
       "<Figure size 432x288 with 1 Axes>"
      ]
     },
     "metadata": {},
     "output_type": "display_data"
    }
   ],
   "source": [
    "#generate pie chart showing the distribution of female vs male using pandas\n",
    "\n",
    "#create mouseid and sex DataFrame\n",
    "mouseid_and_sex_df = cleaned_merged_df.filter(['Mouse ID', 'Sex'])\n",
    "mouseid_and_sex_df.drop_duplicates('Mouse ID', inplace = True)\n",
    "mouseid_and_sex_df.reset_index(inplace=True)\n",
    "\n",
    "del mouseid_and_sex_df['index']\n",
    "\n",
    "#Create Pie Chart\n",
    "sex_distribution = mouseid_and_sex_df['Sex'].value_counts()\n",
    "sex_distribution.plot(kind = 'pie', startangle = 90, radius = .8, autopct=\"%1.1f%%\")\n",
    "plt.title('Sex Distribution')\n",
    "plt.legend()"
   ]
  },
  {
   "cell_type": "code",
   "execution_count": 11,
   "id": "f11ae075",
   "metadata": {},
   "outputs": [
    {
     "data": {
      "text/plain": [
       "<matplotlib.legend.Legend at 0x2a8ad82e160>"
      ]
     },
     "execution_count": 11,
     "metadata": {},
     "output_type": "execute_result"
    },
    {
     "data": {
      "image/png": "[encoded data removed]",
      "text/plain": [
       "<Figure size 432x288 with 1 Axes>"
      ]
     },
     "metadata": {},
     "output_type": "display_data"
    }
   ],
   "source": [
    "#generate pie chart showing the distribution of female vs male using matplotlib\n",
    "sex_labels = [value for value in list(sex_distribution.axes[0])]\n",
    "sex_count = list(sex_distribution)\n",
    "\n",
    "plt.pie(sex_count, labels = sex_labels, startangle = 90, radius = .8, autopct=\"%1.1f%%\")\n",
    "plt.title('Sex Distribution')\n",
    "plt.legend()"
   ]
  },
  {
   "cell_type": "code",
   "execution_count": 12,
   "id": "06dc75f2",
   "metadata": {},
   "outputs": [
    {
     "data": {
      "text/html": [
       "<div>\n",
       "<style scoped>\n",
       "    .dataframe tbody tr th:only-of-type {\n",
       "        vertical-align: middle;\n",
       "    }\n",
       "\n",
       "    .dataframe tbody tr th {\n",
       "        vertical-align: top;\n",
       "    }\n",
       "\n",
       "    .dataframe thead th {\n",
       "        text-align: right;\n",
       "    }\n",
       "</style>\n",
       "<table border=\"1\" class=\"dataframe\">\n",
       "  <thead>\n",
       "    <tr style=\"text-align: right;\">\n",
       "      <th></th>\n",
       "      <th>Mouse ID</th>\n",
       "      <th>Drug Regimen</th>\n",
       "      <th>Sex</th>\n",
       "      <th>Age_months</th>\n",
       "      <th>Weight (g)</th>\n",
       "      <th>Timepoint</th>\n",
       "      <th>Tumor Volume (mm3)</th>\n",
       "      <th>Metastatic Sites</th>\n",
       "    </tr>\n",
       "  </thead>\n",
       "  <tbody>\n",
       "    <tr>\n",
       "      <th>0</th>\n",
       "      <td>k403</td>\n",
       "      <td>Ramicane</td>\n",
       "      <td>Male</td>\n",
       "      <td>21</td>\n",
       "      <td>16</td>\n",
       "      <td>45</td>\n",
       "      <td>22.050126</td>\n",
       "      <td>1</td>\n",
       "    </tr>\n",
       "    <tr>\n",
       "      <th>1</th>\n",
       "      <td>s185</td>\n",
       "      <td>Capomulin</td>\n",
       "      <td>Female</td>\n",
       "      <td>3</td>\n",
       "      <td>17</td>\n",
       "      <td>45</td>\n",
       "      <td>23.343598</td>\n",
       "      <td>1</td>\n",
       "    </tr>\n",
       "    <tr>\n",
       "      <th>2</th>\n",
       "      <td>x401</td>\n",
       "      <td>Capomulin</td>\n",
       "      <td>Female</td>\n",
       "      <td>16</td>\n",
       "      <td>15</td>\n",
       "      <td>45</td>\n",
       "      <td>28.484033</td>\n",
       "      <td>0</td>\n",
       "    </tr>\n",
       "    <tr>\n",
       "      <th>3</th>\n",
       "      <td>m601</td>\n",
       "      <td>Capomulin</td>\n",
       "      <td>Male</td>\n",
       "      <td>22</td>\n",
       "      <td>17</td>\n",
       "      <td>45</td>\n",
       "      <td>28.430964</td>\n",
       "      <td>1</td>\n",
       "    </tr>\n",
       "    <tr>\n",
       "      <th>4</th>\n",
       "      <td>g791</td>\n",
       "      <td>Ramicane</td>\n",
       "      <td>Male</td>\n",
       "      <td>11</td>\n",
       "      <td>16</td>\n",
       "      <td>45</td>\n",
       "      <td>29.128472</td>\n",
       "      <td>1</td>\n",
       "    </tr>\n",
       "    <tr>\n",
       "      <th>...</th>\n",
       "      <td>...</td>\n",
       "      <td>...</td>\n",
       "      <td>...</td>\n",
       "      <td>...</td>\n",
       "      <td>...</td>\n",
       "      <td>...</td>\n",
       "      <td>...</td>\n",
       "      <td>...</td>\n",
       "    </tr>\n",
       "    <tr>\n",
       "      <th>95</th>\n",
       "      <td>x822</td>\n",
       "      <td>Ceftamin</td>\n",
       "      <td>Male</td>\n",
       "      <td>3</td>\n",
       "      <td>29</td>\n",
       "      <td>45</td>\n",
       "      <td>61.386660</td>\n",
       "      <td>3</td>\n",
       "    </tr>\n",
       "    <tr>\n",
       "      <th>96</th>\n",
       "      <td>y163</td>\n",
       "      <td>Infubinol</td>\n",
       "      <td>Female</td>\n",
       "      <td>17</td>\n",
       "      <td>27</td>\n",
       "      <td>45</td>\n",
       "      <td>67.685569</td>\n",
       "      <td>3</td>\n",
       "    </tr>\n",
       "    <tr>\n",
       "      <th>97</th>\n",
       "      <td>y769</td>\n",
       "      <td>Ceftamin</td>\n",
       "      <td>Female</td>\n",
       "      <td>6</td>\n",
       "      <td>27</td>\n",
       "      <td>45</td>\n",
       "      <td>68.594745</td>\n",
       "      <td>4</td>\n",
       "    </tr>\n",
       "    <tr>\n",
       "      <th>98</th>\n",
       "      <td>y865</td>\n",
       "      <td>Ceftamin</td>\n",
       "      <td>Male</td>\n",
       "      <td>23</td>\n",
       "      <td>26</td>\n",
       "      <td>45</td>\n",
       "      <td>64.729837</td>\n",
       "      <td>3</td>\n",
       "    </tr>\n",
       "    <tr>\n",
       "      <th>99</th>\n",
       "      <td>z581</td>\n",
       "      <td>Infubinol</td>\n",
       "      <td>Female</td>\n",
       "      <td>24</td>\n",
       "      <td>25</td>\n",
       "      <td>45</td>\n",
       "      <td>62.754451</td>\n",
       "      <td>3</td>\n",
       "    </tr>\n",
       "  </tbody>\n",
       "</table>\n",
       "<p>100 rows × 8 columns</p>\n",
       "</div>"
      ],
      "text/plain": [
       "   Mouse ID Drug Regimen     Sex  Age_months  Weight (g)  Timepoint  \\\n",
       "0      k403     Ramicane    Male          21          16         45   \n",
       "1      s185    Capomulin  Female           3          17         45   \n",
       "2      x401    Capomulin  Female          16          15         45   \n",
       "3      m601    Capomulin    Male          22          17         45   \n",
       "4      g791     Ramicane    Male          11          16         45   \n",
       "..      ...          ...     ...         ...         ...        ...   \n",
       "95     x822     Ceftamin    Male           3          29         45   \n",
       "96     y163    Infubinol  Female          17          27         45   \n",
       "97     y769     Ceftamin  Female           6          27         45   \n",
       "98     y865     Ceftamin    Male          23          26         45   \n",
       "99     z581    Infubinol  Female          24          25         45   \n",
       "\n",
       "    Tumor Volume (mm3)  Metastatic Sites  \n",
       "0            22.050126                 1  \n",
       "1            23.343598                 1  \n",
       "2            28.484033                 0  \n",
       "3            28.430964                 1  \n",
       "4            29.128472                 1  \n",
       "..                 ...               ...  \n",
       "95           61.386660                 3  \n",
       "96           67.685569                 3  \n",
       "97           68.594745                 4  \n",
       "98           64.729837                 3  \n",
       "99           62.754451                 3  \n",
       "\n",
       "[100 rows x 8 columns]"
      ]
     },
     "execution_count": 12,
     "metadata": {},
     "output_type": "execute_result"
    }
   ],
   "source": [
    "#final tumor volume\n",
    "filtered_cleaned_df = cleaned_merged_df.loc[(cleaned_merged_df[\"Drug Regimen\"] == \"Capomulin\") |\n",
    "                      (cleaned_merged_df[\"Drug Regimen\"] == \"Ramicane\") |\n",
    "                      (cleaned_merged_df[\"Drug Regimen\"] == \"Infubinol\") | \n",
    "                      (cleaned_merged_df[\"Drug Regimen\"] == \"Ceftamin\"), :]\n",
    "\n",
    "groupby_mouseid_df = filtered_cleaned_df.groupby('Mouse ID')\n",
    "filter_df = groupby_mouseid_df['Timepoint'].max()\n",
    "\n",
    "#Merge original df with filter to examine the final tumor sizes\n",
    "filtered_merged_df = cleaned_merged_df.merge(filter_df, on=['Mouse ID', 'Timepoint'], how='inner')\n",
    "\n",
    "#Check that only final tumor size points were kept in the DataFrame\n",
    "filtered_merged_df"
   ]
  },
  {
   "cell_type": "code",
   "execution_count": 13,
   "id": "e92c6158",
   "metadata": {},
   "outputs": [],
   "source": [
    "#Create and populate a list of volumes for each drug regimen of interest (Ramicane, Capomulin, Infubinol, Ceftamin)\n",
    "ramicane_vol = []\n",
    "capomulin_vol = []\n",
    "infubinol_vol = []\n",
    "ceftamin_vol = []\n",
    "\n",
    "for index, info in filtered_merged_df.iterrows():\n",
    "    if info[\"Drug Regimen\"] == \"Ramicane\":\n",
    "        ramicane_vol.append(info[\"Tumor Volume (mm3)\"])\n",
    "    elif info['Drug Regimen'] == \"Capomulin\":\n",
    "        capomulin_vol.append(info[\"Tumor Volume (mm3)\"])\n",
    "    elif info['Drug Regimen'] == \"Infubinol\":\n",
    "        infubinol_vol.append(info[\"Tumor Volume (mm3)\"])\n",
    "    elif info['Drug Regimen'] == \"Ceftamin\":\n",
    "        ceftamin_vol.append(info[\"Tumor Volume (mm3)\"])\n",
    "        "
   ]
  },
  {
   "cell_type": "code",
   "execution_count": 14,
   "id": "2ec1e96b",
   "metadata": {},
   "outputs": [
    {
     "name": "stdout",
     "output_type": "stream",
     "text": [
      "There is/are 0 outlier(s) for Ramicane\n"
     ]
    }
   ],
   "source": [
    "#Ramicane quartiles\n",
    "ramicane_vol.sort()\n",
    "ramicane_firstq, ramicane_median, ramicane_thirdq = np.quantile(ramicane_vol, [.25, .5, .75])\n",
    "ramicane_iqr = ramicane_thirdq - ramicane_firstq\n",
    "lower_bound_ram = ramicane_firstq - 1.5 * ramicane_iqr\n",
    "upper_bound_ram = ramicane_thirdq + 1.5 * ramicane_iqr\n",
    "\n",
    "#determine outliers\n",
    "outliers_ramicane = [value for value in ramicane_vol if (value > upper_bound_ram) | (value < lower_bound_ram)]\n",
    "print(f\"There is/are {len(outliers_ramicane)} outlier(s) for Ramicane\")"
   ]
  },
  {
   "cell_type": "code",
   "execution_count": 15,
   "id": "783f5f10",
   "metadata": {},
   "outputs": [
    {
     "name": "stdout",
     "output_type": "stream",
     "text": [
      "There is/are 0 outlier(s) for Capomulin\n"
     ]
    }
   ],
   "source": [
    "#Capomulin quartiles\n",
    "capomulin_vol.sort()\n",
    "capomulin_firstq, capomulin_median, capomulin_thirdq = np.quantile(capomulin_vol, [.25, .5, .75])\n",
    "capomulin_iqr = capomulin_thirdq - capomulin_firstq\n",
    "lower_bound_cap = capomulin_firstq - 1.5 * capomulin_iqr\n",
    "upper_bound_cap = capomulin_thirdq + 1.5 * capomulin_iqr\n",
    "\n",
    "#determine outliers\n",
    "outliers_capomulin = [value for value in capomulin_vol if (value > upper_bound_cap) | (value < lower_bound_cap)]\n",
    "print(f\"There is/are {len(outliers_capomulin)} outlier(s) for Capomulin\")"
   ]
  },
  {
   "cell_type": "code",
   "execution_count": 16,
   "id": "b229a52f",
   "metadata": {},
   "outputs": [
    {
     "name": "stdout",
     "output_type": "stream",
     "text": [
      "There is/are 1 outlier(s) for Infubinol\n"
     ]
    }
   ],
   "source": [
    "#Infubinol quartiles\n",
    "infubinol_vol.sort()\n",
    "infubinol_firstq, infubinol_median, infubinol_thirdq = np.quantile(infubinol_vol, [.25, .5, .75])\n",
    "infubinol_iqr = infubinol_thirdq - infubinol_firstq\n",
    "lower_bound_inf = infubinol_firstq - 1.5 * infubinol_iqr\n",
    "upper_bound_inf = infubinol_thirdq + 1.5 * infubinol_iqr\n",
    "\n",
    "outliers_infubinol = [value for value in infubinol_vol if (value > upper_bound_inf) | (value < lower_bound_inf)]\n",
    "print(f\"There is/are {len(outliers_infubinol)} outlier(s) for Infubinol\")"
   ]
  },
  {
   "cell_type": "code",
   "execution_count": 17,
   "id": "1d3ebd0d",
   "metadata": {},
   "outputs": [
    {
     "name": "stdout",
     "output_type": "stream",
     "text": [
      "There is/are 0 outlier(s) for Ceftamin\n"
     ]
    }
   ],
   "source": [
    "#ceftamin quartiles\n",
    "ceftamin_vol.sort()\n",
    "ceftamin_firstq, ceftamin_median, ceftamin_thirdq = np.quantile(ceftamin_vol, [.25, .5, .75])\n",
    "ceftamin_iqr = ceftamin_thirdq - ceftamin_firstq\n",
    "lower_bound_cef = ceftamin_firstq - 1.5 * ceftamin_iqr\n",
    "upper_bound_cef = ceftamin_thirdq + 1.5 * ceftamin_iqr\n",
    "\n",
    "outliers_ceftamin = [value for value in ceftamin_vol if (value > upper_bound_cef) | (value < lower_bound_cef)]\n",
    "print(f\"There is/are {len(outliers_ceftamin)} outlier(s) for Ceftamin\")"
   ]
  },
  {
   "cell_type": "code",
   "execution_count": 18,
   "id": "b80a1c1d",
   "metadata": {},
   "outputs": [
    {
     "data": {
      "text/plain": [
       "([<matplotlib.axis.XTick at 0x2a8ad866970>,\n",
       "  <matplotlib.axis.XTick at 0x2a8ad866940>,\n",
       "  <matplotlib.axis.XTick at 0x2a8ad863820>,\n",
       "  <matplotlib.axis.XTick at 0x2a8ad8e9820>],\n",
       " [Text(1, 0, 'Ramicane'),\n",
       "  Text(2, 0, 'Capomulin'),\n",
       "  Text(3, 0, 'Infubinol'),\n",
       "  Text(4, 0, 'Ceftamin')])"
      ]
     },
     "execution_count": 18,
     "metadata": {},
     "output_type": "execute_result"
    },
    {
     "data": {
      "image/png": "[encoded data removed]",
      "text/plain": [
       "<Figure size 432x288 with 1 Axes>"
      ]
     },
     "metadata": {
      "needs_background": "light"
     },
     "output_type": "display_data"
    }
   ],
   "source": [
    "#generate boxplots\n",
    "data = [ramicane_vol, capomulin_vol, infubinol_vol, ceftamin_vol]\n",
    "fig1, ax1 = plt.subplots()\n",
    "ax1.set_title('Distribution of Final Tumor Volumes (mm3) for different drug regimens')\n",
    "ax1.boxplot(data, flierprops={'marker': 'o', 'markersize': 7, 'markerfacecolor': 'red'})\n",
    "plt.ylabel('Final Tumor Volumte (mm3)')\n",
    "\n",
    "#adjust x-axis\n",
    "focused_drug_regimens = list(filtered_merged_df['Drug Regimen'].unique())\n",
    "plt.xlabel('Drug Regimen')\n",
    "x_axis = [x for x in range(len(focused_drug_regimens))]\n",
    "tick_locations = [value+1 for value in x_axis]\n",
    "plt.xticks(tick_locations, labels = focused_drug_regimens, rotation=\"vertical\")"
   ]
  },
  {
   "cell_type": "code",
   "execution_count": 19,
   "id": "e93a453e",
   "metadata": {},
   "outputs": [
    {
     "data": {
      "text/plain": [
       "'b742'"
      ]
     },
     "execution_count": 19,
     "metadata": {},
     "output_type": "execute_result"
    }
   ],
   "source": [
    "#Line and Scatter Plots\n",
    "\n",
    "#Create DataFrame with mice who were on just the Capomulin regimen\n",
    "capomulin_mice_df = cleaned_merged_df.loc[cleaned_merged_df[\"Drug Regimen\"] == 'Capomulin']\n",
    "capomulin_mice_id = list(capomulin_mice_df[\"Mouse ID\"].unique())\n",
    "numb_of_cap_mice = len(capomulin_mice_id)\n",
    "\n",
    "#pick a random mouse treated with Capomulin\n",
    "import random\n",
    "random_index = random.randrange(0, numb_of_cap_mice)\n",
    "random_mouse = capomulin_mice_id[random_index]\n",
    "random_mouse\n",
    "#u364 was initially selected from the mice treated with capomulin"
   ]
  },
  {
   "cell_type": "code",
   "execution_count": 20,
   "id": "45612965",
   "metadata": {},
   "outputs": [
    {
     "data": {
      "text/plain": [
       "Text(0.5, 1.0, 'Tumor Volume over Time for Mouse u364')"
      ]
     },
     "execution_count": 20,
     "metadata": {},
     "output_type": "execute_result"
    },
    {
     "data": {
      "image/png": "[encoded data removed]",
      "text/plain": [
       "<Figure size 432x288 with 1 Axes>"
      ]
     },
     "metadata": {
      "needs_background": "light"
     },
     "output_type": "display_data"
    }
   ],
   "source": [
    "#generate line plot for random mouse\n",
    "uthreesixfour_df = capomulin_mice_df.loc[capomulin_mice_df[\"Mouse ID\"] == 'u364']\n",
    "uthreesixfour_df\n",
    "plt.plot(uthreesixfour_df['Timepoint'], uthreesixfour_df['Tumor Volume (mm3)'])\n",
    "plt.xlabel('Timepoint')\n",
    "plt.ylabel('Tumor Volume (mm3)')\n",
    "plt.title('Tumor Volume over Time for Mouse u364')"
   ]
  },
  {
   "cell_type": "code",
   "execution_count": 21,
   "id": "ca8947e1",
   "metadata": {},
   "outputs": [
    {
     "data": {
      "image/png": "[encoded data removed]",
      "text/plain": [
       "<Figure size 432x288 with 1 Axes>"
      ]
     },
     "metadata": {
      "needs_background": "light"
     },
     "output_type": "display_data"
    }
   ],
   "source": [
    "#Generate scatter plot \n",
    "groupby_capomulin_mice_df = capomulin_mice_df.groupby('Mouse ID')\n",
    "\n",
    "groupby_capomulin_mice_df[['Tumor Volume (mm3)', 'Weight (g)']].mean().plot(kind = \"scatter\", x = \"Weight (g)\", y = \"Tumor Volume (mm3)\",\n",
    "                                                                            grid = True, title = \"Avg Tumor Volume (mm3) vs Weight (g) (Capomulin)\")\n",
    "\n",
    "#linear regression\n",
    "avg_tumor_vol = groupby_capomulin_mice_df['Tumor Volume (mm3)'].mean()\n",
    "weights = groupby_capomulin_mice_df['Weight (g)'].mean()\n",
    "vol_wght_slope, vol_wght_int, vol_wght_r, vol_wght_p, vol_wght_std_err = st.linregress(weights, avg_tumor_vol)\n",
    "\n",
    "#EoL (Equation of Line)\n",
    "vol_wght_fit = vol_wght_slope * weights + vol_wght_int"
   ]
  },
  {
   "cell_type": "code",
   "execution_count": 22,
   "id": "4e2c3dc2",
   "metadata": {},
   "outputs": [
    {
     "data": {
      "text/plain": [
       "<matplotlib.legend.Legend at 0x2a8ade14ee0>"
      ]
     },
     "execution_count": 22,
     "metadata": {},
     "output_type": "execute_result"
    },
    {
     "data": {
      "image/png": "[encoded data removed]",
      "text/plain": [
       "<Figure size 432x288 with 1 Axes>"
      ]
     },
     "metadata": {
      "needs_background": "light"
     },
     "output_type": "display_data"
    }
   ],
   "source": [
    "#plot the linear model\n",
    "groupby_capomulin_mice_df[['Tumor Volume (mm3)', 'Weight (g)']].mean().plot(kind = \"scatter\", \n",
    "                                                                            x = \"Weight (g)\",\n",
    "                                                                            y = \"Tumor Volume (mm3)\",\n",
    "                                                                            grid = True,\n",
    "                                                                            title = \"Avg Tumor Volume (mm3) vs Weight (g) (Capomulin)\"\n",
    "                                                                           )\n",
    "plt.plot(weights, vol_wght_fit, color = 'r', linestyle = '-', lw = .75, label='Linear regression')\n",
    "line_eq = \"y = \" + str(round(vol_wght_slope, 2)) + \"x + \" + str(round(vol_wght_int, 2))\n",
    "plt.annotate(line_eq, (20,37), fontsize = 12, color = 'red')\n",
    "plt.legend(loc='lower right')\n"
   ]
  },
  {
   "cell_type": "code",
   "execution_count": null,
   "id": "2e656fee",
   "metadata": {},
   "outputs": [],
   "source": []
  }
 ],
 "metadata": {
  "kernelspec": {
   "display_name": "Python [conda env:PythonData] *",
   "language": "python",
   "name": "conda-env-PythonData-py"
  },
  "language_info": {
   "codemirror_mode": {
    "name": "ipython",
    "version": 3
   },
   "file_extension": ".py",
   "mimetype": "text/x-python",
   "name": "python",
   "nbconvert_exporter": "python",
   "pygments_lexer": "ipython3",
   "version": "3.8.11"
  }
 },
 "nbformat": 4,
 "nbformat_minor": 5
}
