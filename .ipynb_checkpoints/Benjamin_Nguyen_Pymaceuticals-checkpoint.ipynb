{
 "cells": [
  {
   "cell_type": "markdown",
   "id": "e44fbdc3",
   "metadata": {},
   "source": [
    "#### Three Observable Trends\n",
    "- Looking at the summary statistics table, Pymaceuticals' drug of interest, Capomulin, seemed to have yielded the second best results in terms of average tumor volume size (40.68) and standard deviation of 4.99. The seemingly best drug regimen is Ramicane, with the smallest average tumor volume size (40.22) and standard deviation of 4.85. Both of these drug regimens have the least variability, theoretically making them the best candidates to treat SCC.\n",
    "- With the top 4 best performing drug regimens (Ramicane, Capomulin, Infubinol, and Ceftamin), only one of the regimens (Infubinol) had a single outlier. This is perhaps indicative that these drug regimens are consistent and reliable.\n",
    "- It appears that there is a positive correlation between the average size of the tumor and the weight of the mouse.\n"
   ]
  },
  {
   "cell_type": "code",
   "execution_count": null,
   "id": "439befc3",
   "metadata": {},
   "outputs": [],
   "source": [
    "#import dependencies\n",
    "\n",
    "import pandas as pd\n",
    "import scipy.stats as st\n",
    "import matplotlib.pyplot as plt\n",
    "import numpy as np"
   ]
  },
  {
   "cell_type": "code",
   "execution_count": null,
   "id": "cc954a40",
   "metadata": {},
   "outputs": [],
   "source": [
    "#read data\n",
    "mouse_file = \"Pymaceuticals/data/Mouse_metadata.csv\"\n",
    "results_file = \"Pymaceuticals/data/Study_results.csv\"\n",
    "\n",
    "#store data into a DataFrame\n",
    "mouse_meta_df = pd.read_csv(mouse_file)\n",
    "results_df = pd.read_csv(results_file)"
   ]
  },
  {
   "cell_type": "code",
   "execution_count": null,
   "id": "3a6474a9",
   "metadata": {},
   "outputs": [],
   "source": [
    "#Merge DataFrames\n",
    "\n",
    "merged_df = mouse_meta_df.merge(results_df, on = \"Mouse ID\", how = \"outer\")\n",
    "\n",
    "#Determining the mouse id with duplicate timepoints\n",
    "duplicate_mouse = merged_df[merged_df.duplicated(subset=[\"Mouse ID\", \"Timepoint\"], keep = False)]"
   ]
  },
  {
   "cell_type": "code",
   "execution_count": null,
   "id": "21d9809a",
   "metadata": {
    "scrolled": true
   },
   "outputs": [],
   "source": [
    "#cleaning the data\n",
    "cleaned_merged_df = merged_df.loc[merged_df[\"Mouse ID\"] != 'g989']\n",
    "\n",
    "#check that data has been stripped of compromising data\n",
    "len(cleaned_merged_df['Mouse ID'].unique())"
   ]
  },
  {
   "cell_type": "code",
   "execution_count": null,
   "id": "8d966fff",
   "metadata": {},
   "outputs": [],
   "source": [
    "#Statistics\n",
    "\n",
    "tumor_summary_df = pd.DataFrame()\n",
    "\n",
    "#grouping the data by the drug regimen\n",
    "regimen_groupby_df = cleaned_merged_df.groupby(\"Drug Regimen\")\n",
    "\n",
    "#store summary statistics in variable and add key, values to DataFrame\n",
    "tumor_vol_mean = regimen_groupby_df[\"Tumor Volume (mm3)\"].mean()\n",
    "tumor_vol_median = regimen_groupby_df[\"Tumor Volume (mm3)\"].median()\n",
    "tumor_vol_std = regimen_groupby_df[\"Tumor Volume (mm3)\"].std()\n",
    "tumor_vol_var = regimen_groupby_df[\"Tumor Volume (mm3)\"].var()\n",
    "tumor_vol_sem = regimen_groupby_df[\"Tumor Volume (mm3)\"].sem()\n",
    "\n",
    "tumor_summary_df[\"Tumor Volume Mean (mm3)\"] = tumor_vol_mean\n",
    "tumor_summary_df[\"Tumor Volume Median (mm3)\"] = tumor_vol_median\n",
    "tumor_summary_df[\"Tumor Volume Standard Deviation (mm3)\"] = tumor_vol_std\n",
    "tumor_summary_df[\"Tumor Volume Variance (mm3)\"] = tumor_vol_var\n",
    "tumor_summary_df[\"Tumor Volume SEM (mm3)\"] = tumor_vol_sem\n",
    "\n",
    "tumor_summary_df"
   ]
  },
  {
   "cell_type": "code",
   "execution_count": null,
   "id": "e1472c25",
   "metadata": {},
   "outputs": [],
   "source": [
    "#Create Summary Statistic Table using the aggregate method\n",
    "\n",
    "agg_summary_df = regimen_groupby_df[\"Tumor Volume (mm3)\"].agg(['mean', 'median', 'std', 'var', 'sem'])\n",
    "\n",
    "agg_summary_df"
   ]
  },
  {
   "cell_type": "code",
   "execution_count": null,
   "id": "e03b6bdd",
   "metadata": {},
   "outputs": [],
   "source": [
    "#Create a dataframe for total number of timepoints for all mice tested for each drug regimen\n",
    "regimen_timepoint_df = cleaned_merged_df.filter(['Drug Regimen', 'Timepoint'])\n",
    "regimen_groupby_df = regimen_timepoint_df.groupby('Drug Regimen')"
   ]
  },
  {
   "cell_type": "code",
   "execution_count": null,
   "id": "3d74eb29",
   "metadata": {
    "scrolled": true
   },
   "outputs": [],
   "source": [
    "#generate bar plot for total number of timepoints for all mice tested for each drug regimen using pandas\n",
    "#total number of the timepoint values per regimen\n",
    "regimen_groupby_df[\"Timepoint\"].count().plot(kind = 'bar')\n",
    "plt.title('Total Number of Timepoints per drug regimen')\n",
    "plt.xlabel('Drug Regimen')\n",
    "plt.ylabel('Number of Timepoints')"
   ]
  },
  {
   "cell_type": "code",
   "execution_count": null,
   "id": "bd3aa851",
   "metadata": {},
   "outputs": [],
   "source": [
    "#generate bar plot for total number of timepoints for all mice tested for each drug regimen using matplotlib\n",
    "drug_regimens = [value for value in list(regimen_groupby_df[\"Timepoint\"].count().axes[0])]\n",
    "x_axis = [x for x in range(len(drug_regimens))]\n",
    "tick_locations = [value for value in x_axis]\n",
    "total_timepoints = list(regimen_groupby_df[\"Timepoint\"].count())\n",
    "\n",
    "plt.bar(x_axis, total_timepoints, align = 'center', width = .5)\n",
    "plt.xticks(tick_locations, drug_regimens, rotation=\"vertical\")\n",
    "plt.title('Total Number of Timepoints per drug regimen')\n",
    "plt.xlabel('Drug Regimen')\n",
    "plt.ylabel('Number of Timepoints')"
   ]
  },
  {
   "cell_type": "code",
   "execution_count": null,
   "id": "1c481888",
   "metadata": {},
   "outputs": [],
   "source": [
    "#generate pie chart showing the distribution of female vs male using pandas\n",
    "\n",
    "#create mouseid and sex DataFrame\n",
    "mouseid_and_sex_df = cleaned_merged_df.filter(['Mouse ID', 'Sex'])\n",
    "mouseid_and_sex_df.drop_duplicates('Mouse ID', inplace = True)\n",
    "mouseid_and_sex_df.reset_index(inplace=True)\n",
    "\n",
    "del mouseid_and_sex_df['index']\n",
    "\n",
    "#Create Pie Chart\n",
    "sex_distribution = mouseid_and_sex_df['Sex'].value_counts()\n",
    "sex_distribution.plot(kind = 'pie', startangle = 90, radius = .8, autopct=\"%1.1f%%\")\n",
    "plt.title('Sex Distribution')\n",
    "plt.legend()"
   ]
  },
  {
   "cell_type": "code",
   "execution_count": null,
   "id": "164a5127",
   "metadata": {},
   "outputs": [],
   "source": [
    "#generate pie chart showing the distribution of female vs male using matplotlib\n",
    "sex_labels = [value for value in list(sex_distribution.axes[0])]\n",
    "sex_count = list(sex_distribution)\n",
    "\n",
    "plt.pie(sex_count, labels = sex_labels, startangle = 90, radius = .8, autopct=\"%1.1f%%\")\n",
    "plt.title('Sex Distribution')\n",
    "plt.legend()"
   ]
  },
  {
   "cell_type": "code",
   "execution_count": null,
   "id": "936316e3",
   "metadata": {},
   "outputs": [],
   "source": [
    "#final tumor volume\n",
    "filtered_cleaned_df = cleaned_merged_df.loc[(cleaned_merged_df[\"Drug Regimen\"] == \"Capomulin\") |\n",
    "                      (cleaned_merged_df[\"Drug Regimen\"] == \"Ramicane\") |\n",
    "                      (cleaned_merged_df[\"Drug Regimen\"] == \"Infubinol\") | \n",
    "                      (cleaned_merged_df[\"Drug Regimen\"] == \"Ceftamin\"), :]\n",
    "\n",
    "groupby_mouseid_df = filtered_cleaned_df.groupby('Mouse ID')\n",
    "filter_df = groupby_mouseid_df['Timepoint'].max()\n",
    "\n",
    "#Merge original df with filter to examine the final tumor sizes\n",
    "filtered_merged_df = cleaned_merged_df.merge(filter_df, on=['Mouse ID', 'Timepoint'], how='inner')\n",
    "\n",
    "#Check that only final tumor size points were kept in the DataFrame\n",
    "filtered_merged_df"
   ]
  },
  {
   "cell_type": "code",
   "execution_count": null,
   "id": "8703767b",
   "metadata": {},
   "outputs": [],
   "source": [
    "#Create and populate a list of volumes for each drug regimen of interest (Ramicane, Capomulin, Infubinol, Ceftamin)\n",
    "ramicane_vol = []\n",
    "capomulin_vol = []\n",
    "infubinol_vol = []\n",
    "ceftamin_vol = []\n",
    "\n",
    "for index, info in filtered_merged_df.iterrows():\n",
    "    if info[\"Drug Regimen\"] == \"Ramicane\":\n",
    "        ramicane_vol.append(info[\"Tumor Volume (mm3)\"])\n",
    "    elif info['Drug Regimen'] == \"Capomulin\":\n",
    "        capomulin_vol.append(info[\"Tumor Volume (mm3)\"])\n",
    "    elif info['Drug Regimen'] == \"Infubinol\":\n",
    "        infubinol_vol.append(info[\"Tumor Volume (mm3)\"])\n",
    "    elif info['Drug Regimen'] == \"Ceftamin\":\n",
    "        ceftamin_vol.append(info[\"Tumor Volume (mm3)\"])\n",
    "        "
   ]
  },
  {
   "cell_type": "code",
   "execution_count": null,
   "id": "42172ab1",
   "metadata": {},
   "outputs": [],
   "source": [
    "#Ramicane quartiles\n",
    "ramicane_vol.sort()\n",
    "ramicane_firstq, ramicane_median, ramicane_thirdq = np.quantile(ramicane_vol, [.25, .5, .75])\n",
    "ramicane_iqr = ramicane_thirdq - ramicane_firstq\n",
    "lower_bound_ram = ramicane_firstq - 1.5 * ramicane_iqr\n",
    "upper_bound_ram = ramicane_thirdq + 1.5 * ramicane_iqr\n",
    "\n",
    "#determine outliers\n",
    "outliers_ramicane = [value for value in ramicane_vol if (value > upper_bound_ram) | (value < lower_bound_ram)]\n",
    "print(f\"There is/are {len(outliers_ramicane)} outlier(s) for Ramicane\")"
   ]
  },
  {
   "cell_type": "code",
   "execution_count": null,
   "id": "bbf876f9",
   "metadata": {},
   "outputs": [],
   "source": [
    "#Capomulin quartiles\n",
    "capomulin_vol.sort()\n",
    "capomulin_firstq, capomulin_median, capomulin_thirdq = np.quantile(capomulin_vol, [.25, .5, .75])\n",
    "capomulin_iqr = capomulin_thirdq - capomulin_firstq\n",
    "lower_bound_cap = capomulin_firstq - 1.5 * capomulin_iqr\n",
    "upper_bound_cap = capomulin_thirdq + 1.5 * capomulin_iqr\n",
    "\n",
    "#determine outliers\n",
    "outliers_capomulin = [value for value in capomulin_vol if (value > upper_bound_cap) | (value < lower_bound_cap)]\n",
    "print(f\"There is/are {len(outliers_capomulin)} outlier(s) for Capomulin\")"
   ]
  },
  {
   "cell_type": "code",
   "execution_count": null,
   "id": "ec62058b",
   "metadata": {},
   "outputs": [],
   "source": [
    "#Infubinol quartiles\n",
    "infubinol_vol.sort()\n",
    "infubinol_firstq, infubinol_median, infubinol_thirdq = np.quantile(infubinol_vol, [.25, .5, .75])\n",
    "infubinol_iqr = infubinol_thirdq - infubinol_firstq\n",
    "lower_bound_inf = infubinol_firstq - 1.5 * infubinol_iqr\n",
    "upper_bound_inf = infubinol_thirdq + 1.5 * infubinol_iqr\n",
    "\n",
    "outliers_infubinol = [value for value in infubinol_vol if (value > upper_bound_inf) | (value < lower_bound_inf)]\n",
    "print(f\"There is/are {len(outliers_infubinol)} outlier(s) for Infubinol\")"
   ]
  },
  {
   "cell_type": "code",
   "execution_count": null,
   "id": "9ac6798c",
   "metadata": {},
   "outputs": [],
   "source": [
    "#ceftamin quartiles\n",
    "ceftamin_vol.sort()\n",
    "ceftamin_firstq, ceftamin_median, ceftamin_thirdq = np.quantile(ceftamin_vol, [.25, .5, .75])\n",
    "ceftamin_iqr = ceftamin_thirdq - ceftamin_firstq\n",
    "lower_bound_cef = ceftamin_firstq - 1.5 * ceftamin_iqr\n",
    "upper_bound_cef = ceftamin_thirdq + 1.5 * ceftamin_iqr\n",
    "\n",
    "outliers_ceftamin = [value for value in ceftamin_vol if (value > upper_bound_cef) | (value < lower_bound_cef)]\n",
    "print(f\"There is/are {len(outliers_ceftamin)} outlier(s) for Ceftamin\")"
   ]
  },
  {
   "cell_type": "code",
   "execution_count": null,
   "id": "6767fa31",
   "metadata": {},
   "outputs": [],
   "source": [
    "#generate boxplots\n",
    "data = [ramicane_vol, capomulin_vol, infubinol_vol, ceftamin_vol]\n",
    "fig1, ax1 = plt.subplots()\n",
    "ax1.set_title('Distribution of Final Tumor Volumes (mm3) for different drug regimens')\n",
    "ax1.boxplot(data, flierprops={'marker': 'o', 'markersize': 7, 'markerfacecolor': 'red'})\n",
    "plt.ylabel('Final Tumor Volumte (mm3)')\n",
    "\n",
    "#adjust x-axis\n",
    "focused_drug_regimens = list(filtered_merged_df['Drug Regimen'].unique())\n",
    "plt.xlabel('Drug Regimen')\n",
    "x_axis = [x for x in range(len(focused_drug_regimens))]\n",
    "tick_locations = [value+1 for value in x_axis]\n",
    "plt.xticks(tick_locations, labels = focused_drug_regimens, rotation=\"vertical\")"
   ]
  },
  {
   "cell_type": "code",
   "execution_count": null,
   "id": "429dc7b6",
   "metadata": {},
   "outputs": [],
   "source": [
    "#Line and Scatter Plots\n",
    "\n",
    "#Create DataFrame with mice who were on just the Capomulin regimen\n",
    "capomulin_mice_df = cleaned_merged_df.loc[cleaned_merged_df[\"Drug Regimen\"] == 'Capomulin']\n",
    "capomulin_mice_id = list(capomulin_mice_df[\"Mouse ID\"].unique())\n",
    "numb_of_cap_mice = len(capomulin_mice_id)\n",
    "\n",
    "#pick a random mouse treated with Capomulin\n",
    "import random\n",
    "random_index = random.randrange(0, numb_of_cap_mice)\n",
    "random_mouse = capomulin_mice_id[random_index]\n",
    "random_mouse\n",
    "#u364 was initially selected from the mice treated with capomulin"
   ]
  },
  {
   "cell_type": "code",
   "execution_count": null,
   "id": "5b43f8c0",
   "metadata": {},
   "outputs": [],
   "source": [
    "#generate line plot for random mouse\n",
    "uthreesixfour_df = capomulin_mice_df.loc[capomulin_mice_df[\"Mouse ID\"] == 'u364']\n",
    "uthreesixfour_df\n",
    "plt.plot(uthreesixfour_df['Timepoint'], uthreesixfour_df['Tumor Volume (mm3)'])\n",
    "plt.xlabel('Timepoint')\n",
    "plt.ylabel('Tumor Volume (mm3)')\n",
    "plt.title('Tumor Volume over Time for Mouse u364')"
   ]
  },
  {
   "cell_type": "code",
   "execution_count": null,
   "id": "31e73bf5",
   "metadata": {},
   "outputs": [],
   "source": [
    "#Generate scatter plot \n",
    "groupby_capomulin_mice_df = capomulin_mice_df.groupby('Mouse ID')\n",
    "\n",
    "groupby_capomulin_mice_df[['Tumor Volume (mm3)', 'Weight (g)']].mean().plot(kind = \"scatter\", x = \"Weight (g)\", y = \"Tumor Volume (mm3)\",\n",
    "                                                                            grid = True, title = \"Avg Tumor Volume (mm3) vs Weight (g) (Capomulin)\")\n",
    "\n",
    "#linear regression\n",
    "avg_tumor_vol = groupby_capomulin_mice_df['Tumor Volume (mm3)'].mean()\n",
    "weights = groupby_capomulin_mice_df['Weight (g)'].mean()\n",
    "vol_wght_slope, vol_wght_int, vol_wght_r, vol_wght_p, vol_wght_std_err = st.linregress(weights, avg_tumor_vol)\n",
    "\n",
    "#EoL (Equation of Line)\n",
    "vol_wght_fit = vol_wght_slope * weights + vol_wght_int"
   ]
  },
  {
   "cell_type": "code",
   "execution_count": null,
   "id": "0e22290d",
   "metadata": {},
   "outputs": [],
   "source": [
    "#plot the linear model\n",
    "groupby_capomulin_mice_df[['Tumor Volume (mm3)', 'Weight (g)']].mean().plot(kind = \"scatter\", \n",
    "                                                                            x = \"Weight (g)\",\n",
    "                                                                            y = \"Tumor Volume (mm3)\",\n",
    "                                                                            grid = True,\n",
    "                                                                            title = \"Avg Tumor Volume (mm3) vs Weight (g) (Capomulin)\"\n",
    "                                                                           )\n",
    "plt.plot(weights, vol_wght_fit, color = 'r', linestyle = '-', lw = .75, label='Linear regression')\n",
    "line_eq = \"y = \" + str(round(vol_wght_slope, 2)) + \"x + \" + str(round(vol_wght_int, 2))\n",
    "plt.annotate(line_eq, (20,37), fontsize = 12, color = 'red')\n",
    "plt.legend(loc='lower right')\n"
   ]
  },
  {
   "cell_type": "code",
   "execution_count": null,
   "id": "13ad6c25",
   "metadata": {},
   "outputs": [],
   "source": []
  }
 ],
 "metadata": {
  "kernelspec": {
   "display_name": "Python [conda env:PythonData] *",
   "language": "python",
   "name": "conda-env-PythonData-py"
  },
  "language_info": {
   "codemirror_mode": {
    "name": "ipython",
    "version": 3
   },
   "file_extension": ".py",
   "mimetype": "text/x-python",
   "name": "python",
   "nbconvert_exporter": "python",
   "pygments_lexer": "ipython3",
   "version": "3.8.11"
  }
 },
 "nbformat": 4,
 "nbformat_minor": 5
}
